{
 "cells": [
  {
   "cell_type": "markdown",
   "metadata": {},
   "source": [
    "# Курсовая работа\n",
    "\n",
    "## Выполнил студент группы БФИ2202 Плешаков А.С"
   ]
  },
  {
   "cell_type": "markdown",
   "metadata": {},
   "source": [
    "### Задание\n",
    "\n",
    "Написать программу, которая будет считывать данные из CSV файла, содержащего информацию о продажах товаров в магазине.  \n",
    "Данные в файле содержатся в следующем формате:  \n",
    "| Номер заказа | Дата заказа | Название товара | Категория товара | Количество продаж | Цена за единицу | Общая стоимость |\n",
    "\n",
    "Также необзодимо выполнить следующие пункты:  \n",
    "1. Рассчитать общую выручку магазина.\n",
    "2. Найти товар, который был продан наибольшее количество раз.\n",
    "3. Найти товар, который принес наибольшую выручку.\n",
    "4. Составить отчет, содержащий информацию об общей выручке магазина, количестве проданных единиц каждого товар и доле каждого товара в общей выручке.\n",
    "Для решения задач необходимо использовать структуры данных, такие как массивы и хеш-таблицы, а также различные алгоритмы обработки данных, например, сортировку и поиск.\n",
    "Также необходимо учитывать возможные ошибки ввода-вывода и обрабатывать их в соответствии с требованиями."
   ]
  },
  {
   "cell_type": "markdown",
   "metadata": {},
   "source": [
    "### Ниже представлен код програмы"
   ]
  },
  {
   "cell_type": "code",
   "execution_count": 11,
   "metadata": {},
   "outputs": [
    {
     "name": "stderr",
     "output_type": "stream",
     "text": [
      "Matplotlib is building the font cache; this may take a moment.\n"
     ]
    }
   ],
   "source": [
    "import csv\n",
    "import pandas as pd\n",
    "import numpy as np\n",
    "import matplotlib.pyplot as plt"
   ]
  },
  {
   "cell_type": "markdown",
   "metadata": {},
   "source": [
    "### Словарь, который поддерживает метод цепочек"
   ]
  },
  {
   "cell_type": "code",
   "execution_count": 2,
   "metadata": {},
   "outputs": [],
   "source": [
    "class chain_hash_table:\n",
    "    def __init__(self, size: int):\n",
    "        self.size = size\n",
    "        self.table = [None] * size\n",
    "    \n",
    "    def hash_function(self, key):\n",
    "        if key % self.size != key:\n",
    "            raise KeyError(\"Элемент не найден\")\n",
    "        else:\n",
    "            return key\n",
    "    \n",
    "    def insert(self, key, value):\n",
    "        index = self.hash_function(key)\n",
    "        if self.table[index] is None:\n",
    "            self.table[index] = [(key, value)]\n",
    "        else:\n",
    "            self.table[index].append((key, value))\n",
    "    \n",
    "    def search(self, key):\n",
    "        index = self.hash_function(key)\n",
    "        if self.table[index] is not None:\n",
    "            items = []\n",
    "            for item in self.table[index]:\n",
    "                items.append(item[1])\n",
    "            return items\n",
    "        return None  \n",
    "    \n",
    "    def delete(self, key):\n",
    "        index = self.hash_function(key)\n",
    "        if self.table[index] is not None:\n",
    "            for i, item in enumerate(self.table[index]):\n",
    "                if item[0] == key:\n",
    "                    del self.table[index][i]\n",
    "                    return\n",
    "        raise KeyError(\"Элемент не найден\")\n"
   ]
  },
  {
   "cell_type": "markdown",
   "metadata": {},
   "source": [
    "### Методы создания и чтения даты из csv файла"
   ]
  },
  {
   "cell_type": "code",
   "execution_count": 3,
   "metadata": {},
   "outputs": [
    {
     "name": "stdout",
     "output_type": "stream",
     "text": [
      "CSV файл orders.csv успешно создан.\n"
     ]
    }
   ],
   "source": [
    "def create_csv_file():\n",
    "   data = [\n",
    "      ['Номер заказа', 'Дата заказа', 'Название товара', 'Категория товара', 'Количество продаж', 'Цена за единицу', 'Общая стоимость'],\n",
    "      [1, '2024-05-15', 'Футбольный мяч', 'Спорт', 10, 25.00, 250.00],\n",
    "      [2, '2024-05-15', 'Ноутбук', 'Электроника', 5, 1000.00, 5000.00],\n",
    "      [3, '2024-05-16', 'Фотоаппарат', 'Электроника', 10, 300.00, 3000.00]\n",
    "   ]\n",
    "   \n",
    "   file_name = 'orders.csv'\n",
    "\n",
    "   with open(file_name, 'w', newline='', encoding='utf-8') as csvfile:\n",
    "      csvwriter = csv.writer(csvfile)\n",
    "      csvwriter.writerows(data)\n",
    "   print(f'CSV файл {file_name} успешно создан.')\n",
    "\n",
    "def read_data(file_name='orders.csv'):\n",
    "   data = []\n",
    "   with open(file_name, 'r', newline='', encoding='utf-8') as csvfile:\n",
    "      csvreader = csv.reader(csvfile)\n",
    "\n",
    "    # Пропускаем заголовки\n",
    "      next(csvreader)\n",
    "    \n",
    "    # Читаем данные из файла\n",
    "      for row in csvreader:\n",
    "         data.append(row)\n",
    "         print(row)\n",
    "\n",
    "   return data\n",
    "\n",
    "create_csv_file()"
   ]
  },
  {
   "cell_type": "markdown",
   "metadata": {},
   "source": [
    "### Класс, содержащий методы работы с данными, полученными из csv файла"
   ]
  },
  {
   "cell_type": "code",
   "execution_count": 4,
   "metadata": {},
   "outputs": [
    {
     "name": "stdout",
     "output_type": "stream",
     "text": [
      "['1', '2024-05-15', 'Футбольный мяч', 'Спорт', '10', '25.0', '250.0']\n",
      "['2', '2024-05-15', 'Ноутбук', 'Электроника', '5', '1000.0', '5000.0']\n",
      "['3', '2024-05-16', 'Фотоаппарат', 'Электроника', '10', '300.0', '3000.0']\n",
      "['Футбольный мяч', 'Фотоаппарат']\n"
     ]
    }
   ],
   "source": [
    "class data_service:\n",
    "    def __init__(self, data: list[list]):\n",
    "       self.data = data\n",
    "\n",
    "    def calc_income(self) -> int:\n",
    "       count = 0 \n",
    "       for product in self.data:\n",
    "          count += float(product[-1])\n",
    "      \n",
    "       return count\n",
    "    \n",
    "    def find_max_needed_product(self, index) -> float:\n",
    "       max_selled = float(self.data[0][index])\n",
    "       for product in self.data:\n",
    "          max_selled = max(max_selled, float(product[index]))\n",
    "          \n",
    "       return max_selled\n",
    "          \n",
    "\n",
    "    def search_the_most_selled_product(self) -> list:\n",
    "       max_selled = int(self.find_max_needed_product(4))\n",
    "       dict = chain_hash_table(max_selled + 1)\n",
    "       for product in self.data:\n",
    "          max_selled = max(max_selled, int(product[4]))\n",
    "          dict.insert(int(product[4]), product[2])\n",
    "\n",
    "       return dict.search(max_selled)\n",
    "    \n",
    "    def search_the_most_incomest_product(self) -> list:\n",
    "       max_incomest = self.find_max_needed_product(6)\n",
    "       dict = chain_hash_table(int(max_incomest) + 1)\n",
    "       for product in self.data:\n",
    "          max_incomest = max(max_incomest, float(product[6]))\n",
    "          dict.insert(int(float(product[6])), product[2])\n",
    "\n",
    "       return dict.search(int(max_incomest))\n",
    "    \n",
    "    def calc_percent(self):\n",
    "       pass\n",
    "\n",
    "\n",
    "data = read_data()\n",
    "cl = data_service(data)\n",
    "print(cl.search_the_most_selled_product())  \n",
    "\n",
    "\n"
   ]
  },
  {
   "cell_type": "code",
   "execution_count": 13,
   "metadata": {},
   "outputs": [
    {
     "data": {
      "image/png": "[encoded data removed]",
      "text/plain": [
       "<Figure size 640x480 with 1 Axes>"
      ]
     },
     "metadata": {},
     "output_type": "display_data"
    }
   ],
   "source": [
    "# Создаем данные для графика\n",
    "x = [1, 2, 3, 4, 5]\n",
    "y = [2, 3, 5, 7, 11]\n",
    "\n",
    "# Строим график\n",
    "plt.plot(x, y)\n",
    "\n",
    "# Добавляем заголовок и подписи к осям\n",
    "plt.title('Простой график')\n",
    "plt.xlabel('X')\n",
    "plt.ylabel('Y')\n",
    "\n",
    "# Показываем график\n",
    "plt.show()"
   ]
  },
  {
   "cell_type": "code",
   "execution_count": 110,
   "metadata": {},
   "outputs": [],
   "source": [
    "import tkinter as tk\n",
    "from tkinter import *\n",
    "from tkinter import messagebox\n",
    "\n",
    "window = Tk()\n",
    "window.title(\"Калькулятор индекса массы тела (ИМТ)\")\n",
    "window.geometry('400x300')\n",
    "\n",
    "frame = Frame(\n",
    "   window, #Обязательный параметр, который указывает окно для размещения Frame.\n",
    "   padx = 10, #Задаём отступ по горизонтали.\n",
    "   pady = 10 #Задаём отступ по вертикали.\n",
    ")\n",
    "frame.pack(expand=True) #Не забываем позиционировать виджет в окне. Здесь используется метод pack. С помощью свойства expand=True указываем, что Frame заполняет весь контейнер, созданный для него.\n",
    "\n",
    "\n",
    "height_lb = Label(\n",
    "   frame,\n",
    "   text=\"Введите свой рост (в см)\"\n",
    ")\n",
    "height_lb.grid(row=3, column=1)\n",
    "\n",
    "window.mainloop()\n",
    "\n",
    "\n"
   ]
  }
 ],
 "metadata": {
  "kernelspec": {
   "display_name": "Python 3",
   "language": "python",
   "name": "python3"
  },
  "language_info": {
   "codemirror_mode": {
    "name": "ipython",
    "version": 3
   },
   "file_extension": ".py",
   "mimetype": "text/x-python",
   "name": "python",
   "nbconvert_exporter": "python",
   "pygments_lexer": "ipython3",
   "version": "3.9.6"
  }
 },
 "nbformat": 4,
 "nbformat_minor": 2
}
