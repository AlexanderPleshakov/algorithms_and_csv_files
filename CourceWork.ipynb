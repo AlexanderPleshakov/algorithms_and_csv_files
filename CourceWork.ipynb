{
 "cells": [
  {
   "cell_type": "markdown",
   "metadata": {},
   "source": [
    "# Курсовая работа\n",
    "\n",
    "## Выполнил студент группы БФИ2202 Плешаков А.С"
   ]
  },
  {
   "cell_type": "markdown",
   "metadata": {},
   "source": [
    "### Задание\n",
    "\n",
    "Написать программу, которая будет считывать данные из CSV файла, содержащего информацию о продажах товаров в магазине.  \n",
    "Данные в файле содержатся в следующем формате:  \n",
    "| Номер заказа | Дата заказа | Название товара | Категория товара | Количество продаж | Цена за единицу | Общая стоимость |\n",
    "\n",
    "Также необзодимо выполнить следующие пункты:  \n",
    "1. Рассчитать общую выручку магазина.\n",
    "2. Найти товар, который был продан наибольшее количество раз.\n",
    "3. Найти товар, который принес наибольшую выручку.\n",
    "4. Составить отчет, содержащий информацию об общей выручке магазина, количестве проданных единиц каждого товар и доле каждого товара в общей выручке.\n",
    "Для решения задач необходимо использовать структуры данных, такие как массивы и хеш-таблицы, а также различные алгоритмы обработки данных, например, сортировку и поиск.\n",
    "Также необходимо учитывать возможные ошибки ввода-вывода и обрабатывать их в соответствии с требованиями."
   ]
  },
  {
   "cell_type": "markdown",
   "metadata": {},
   "source": [
    "### Ниже представлен код програмы"
   ]
  },
  {
   "cell_type": "code",
   "execution_count": 195,
   "metadata": {},
   "outputs": [],
   "source": [
    "import csv\n",
    "import pandas as pd\n",
    "import numpy as np\n",
    "import matplotlib.pyplot as plt\n",
    "from IPython.display import display"
   ]
  },
  {
   "cell_type": "markdown",
   "metadata": {},
   "source": [
    "### Хэш таблица, которая поддерживает метод цепочек"
   ]
  },
  {
   "cell_type": "code",
   "execution_count": 196,
   "metadata": {},
   "outputs": [],
   "source": [
    "class chain_hash_table:\n",
    "    def __init__(self, size: int):\n",
    "        self.size = size\n",
    "        self.table = [None] * size\n",
    "    \n",
    "    def hash_function(self, key):\n",
    "        if key % self.size != key:\n",
    "            raise KeyError(\"Элемент не найден\")\n",
    "        else:\n",
    "            return key\n",
    "    \n",
    "    def insert(self, key, value):\n",
    "        index = self.hash_function(key)\n",
    "        if self.table[index] is None:\n",
    "            self.table[index] = [(key, value)]\n",
    "        else:\n",
    "            self.table[index].append((key, value))\n",
    "    \n",
    "    def search(self, key):\n",
    "        index = self.hash_function(key)\n",
    "        if self.table[index] is not None:\n",
    "            items = []\n",
    "            for item in self.table[index]:\n",
    "                items.append(item[1])\n",
    "            return items\n",
    "        return None  \n",
    "    \n",
    "    def delete(self, key):\n",
    "        index = self.hash_function(key)\n",
    "        if self.table[index] is not None:\n",
    "            for i, item in enumerate(self.table[index]):\n",
    "                if item[0] == key:\n",
    "                    del self.table[index][i]\n",
    "                    return\n",
    "        raise KeyError(\"Элемент не найден\")\n"
   ]
  },
  {
   "cell_type": "markdown",
   "metadata": {},
   "source": [
    "### Хэш таблица, использующая простое хэширование"
   ]
  },
  {
   "cell_type": "code",
   "execution_count": 197,
   "metadata": {},
   "outputs": [],
   "source": [
    "class hash_tablle:\n",
    "    def __init__(self, initial_capacity=10):\n",
    "        self.capacity = initial_capacity\n",
    "        self.size = 0\n",
    "        self.table = [None] * self.capacity\n",
    "    \n",
    "    def hash_function(self, key):\n",
    "        return key % self.capacity\n",
    "    \n",
    "    def insert(self, key, value):\n",
    "        index = self.hash_function(key)\n",
    "        \n",
    "        if self.table[index] is None:\n",
    "            self.table[index] = (key, value)\n",
    "            self.size += 1\n",
    "        else:\n",
    "            self.resize_and_rehash()\n",
    "            self.insert(key, value)\n",
    "    \n",
    "    def resize_and_rehash(self):\n",
    "        self.capacity *= 2\n",
    "        new_table = [None] * self.capacity\n",
    "        \n",
    "        for item in self.table:\n",
    "            if item is not None:\n",
    "                key, value = item\n",
    "                index = key % self.capacity\n",
    "                new_table[index] = (key, value)\n",
    "        \n",
    "        self.table = new_table\n",
    "    \n",
    "    def search(self, key):\n",
    "        index = self.hash_function(key)\n",
    "        if self.table[index] is not None and self.table[index][0] == key:\n",
    "            return self.table[index][1]\n",
    "        return None\n",
    "    \n",
    "    def delete(self, key):\n",
    "        index = self.hash_function(key)\n",
    "        if self.table[index] is not None and self.table[index][0] == key:\n",
    "            self.table[index] = None\n",
    "            self.size -= 1\n",
    "        else:\n",
    "            raise KeyError(\"Элемент не найден\")"
   ]
  },
  {
   "cell_type": "markdown",
   "metadata": {},
   "source": [
    "### Быстрая сортировка"
   ]
  },
  {
   "cell_type": "code",
   "execution_count": 198,
   "metadata": {},
   "outputs": [],
   "source": [
    "def quick_sort(arr, index=None):\n",
    "    if index == None:\n",
    "        if len(arr) <= 1:\n",
    "            return arr\n",
    "        pivot = arr[len(arr) // 2] \n",
    "        left = [x for x in arr if x < pivot]\n",
    "        middle = [x for x in arr if x == pivot]\n",
    "        right = [x for x in arr if x > pivot]\n",
    "        return quick_sort(left) + middle + quick_sort(right)\n",
    "    else:\n",
    "        if len(arr) <= 1:\n",
    "            return arr\n",
    "        pivot = arr[len(arr) // 2][index]\n",
    "        left = [x for x in arr if x[index] < pivot]\n",
    "        middle = [x for x in arr if x[index] == pivot]\n",
    "        right = [x for x in arr if x[index] > pivot]\n",
    "        return quick_sort(left, index=index) + middle + quick_sort(right, index=index)"
   ]
  },
  {
   "cell_type": "markdown",
   "metadata": {},
   "source": [
    "### Методы создания и чтения даты из csv файла"
   ]
  },
  {
   "cell_type": "code",
   "execution_count": 212,
   "metadata": {},
   "outputs": [
    {
     "name": "stdout",
     "output_type": "stream",
     "text": [
      "CSV файл orders.csv успешно создан.\n"
     ]
    },
    {
     "data": {
      "text/html": [
       "<div>\n",
       "<style scoped>\n",
       "    .dataframe tbody tr th:only-of-type {\n",
       "        vertical-align: middle;\n",
       "    }\n",
       "\n",
       "    .dataframe tbody tr th {\n",
       "        vertical-align: top;\n",
       "    }\n",
       "\n",
       "    .dataframe thead th {\n",
       "        text-align: right;\n",
       "    }\n",
       "</style>\n",
       "<table border=\"1\" class=\"dataframe\">\n",
       "  <thead>\n",
       "    <tr style=\"text-align: right;\">\n",
       "      <th></th>\n",
       "      <th>Номер заказа</th>\n",
       "      <th>Дата заказа</th>\n",
       "      <th>Название товара</th>\n",
       "      <th>Категория товара</th>\n",
       "      <th>Количество продаж</th>\n",
       "      <th>Цена за единицу</th>\n",
       "      <th>Общая стоимость</th>\n",
       "    </tr>\n",
       "  </thead>\n",
       "  <tbody>\n",
       "    <tr>\n",
       "      <th></th>\n",
       "      <td>1</td>\n",
       "      <td>2024-05-15</td>\n",
       "      <td>Бутбольный мяч</td>\n",
       "      <td>Спорт</td>\n",
       "      <td>10</td>\n",
       "      <td>25.0</td>\n",
       "      <td>250.0</td>\n",
       "    </tr>\n",
       "    <tr>\n",
       "      <th></th>\n",
       "      <td>2</td>\n",
       "      <td>2024-05-15</td>\n",
       "      <td>Воутбук</td>\n",
       "      <td>Электроника</td>\n",
       "      <td>5</td>\n",
       "      <td>1000.0</td>\n",
       "      <td>5000.0</td>\n",
       "    </tr>\n",
       "    <tr>\n",
       "      <th></th>\n",
       "      <td>3</td>\n",
       "      <td>2024-05-16</td>\n",
       "      <td>Аотоаппарат</td>\n",
       "      <td>Электроника</td>\n",
       "      <td>10</td>\n",
       "      <td>300.0</td>\n",
       "      <td>3000.0</td>\n",
       "    </tr>\n",
       "  </tbody>\n",
       "</table>\n",
       "</div>"
      ],
      "text/plain": [
       "  Номер заказа Дата заказа Название товара Категория товара  \\\n",
       "             1  2024-05-15  Бутбольный мяч            Спорт   \n",
       "             2  2024-05-15         Воутбук      Электроника   \n",
       "             3  2024-05-16     Аотоаппарат      Электроника   \n",
       "\n",
       "  Количество продаж  Цена за единицу  Общая стоимость  \n",
       "                 10             25.0            250.0  \n",
       "                  5           1000.0           5000.0  \n",
       "                 10            300.0           3000.0  "
      ]
     },
     "metadata": {},
     "output_type": "display_data"
    }
   ],
   "source": [
    "def create_csv_file(data: list[list] = None, file_name='orders.csv'):\n",
    "   if data == None:\n",
    "      data = [\n",
    "         ['Номер заказа', 'Дата заказа', 'Название товара', 'Категория товара', 'Количество продаж', 'Цена за единицу', 'Общая стоимость'],\n",
    "         [1, '2024-05-15', 'Бутбольный мяч', 'Спорт', 10, 25.00, 250.00],\n",
    "         [2, '2024-05-15', 'Воутбук', 'Электроника', 5, 1000.00, 5000.00],\n",
    "         [3, '2024-05-16', 'Аотоаппарат', 'Электроника', 10, 300.00, 3000.00]\n",
    "      ]\n",
    "\n",
    "   with open(file_name, 'w', newline='', encoding='utf-8') as csvfile:\n",
    "      csvwriter = csv.writer(csvfile)\n",
    "      csvwriter.writerows(data)\n",
    "   print(f'CSV файл {file_name} успешно создан.')\n",
    "\n",
    "def read_data(file_name='orders.csv'):\n",
    "   data = []\n",
    "   with open(file_name, 'r', newline='', encoding='utf-8') as csvfile:\n",
    "      csvreader = csv.reader(csvfile)\n",
    "\n",
    "      next(csvreader)\n",
    "    \n",
    "      for row in csvreader:\n",
    "         data.append(row)\n",
    "\n",
    "   return data\n",
    "\n",
    "def show_csv_table(file='orders.csv'):\n",
    "   try:\n",
    "      df = pd.read_csv(file)\n",
    "      df.index = [''] * len(df['Номер заказа'])\n",
    "      display(df)\n",
    "   except:\n",
    "      print(\"Проблемы с чтением фала\")\n",
    "\n",
    "create_csv_file()\n",
    "show_csv_table()"
   ]
  },
  {
   "cell_type": "markdown",
   "metadata": {},
   "source": [
    "### Класс, содержащий методы работы с данными, полученными из csv файла"
   ]
  },
  {
   "cell_type": "code",
   "execution_count": 200,
   "metadata": {},
   "outputs": [
    {
     "name": "stdout",
     "output_type": "stream",
     "text": [
      "['3.0%', '60.6%', '36.4%']\n"
     ]
    }
   ],
   "source": [
    "class data_service:\n",
    "    def __init__(self, data: list[list]):\n",
    "       self.data = data\n",
    "\n",
    "    def calc_revenue(self) -> float:\n",
    "       count = 0 \n",
    "       for product in self.data:\n",
    "          count += float(product[-1])\n",
    "      \n",
    "       return count\n",
    "    \n",
    "    def find_max_needed_product(self, index) -> float:\n",
    "       max_selled = float(self.data[0][index])\n",
    "       for product in self.data:\n",
    "          max_selled = max(max_selled, float(product[index]))\n",
    "          \n",
    "       return max_selled\n",
    "          \n",
    "\n",
    "    def search_the_most_selled_product(self) -> list:\n",
    "       max_selled = int(self.find_max_needed_product(4))\n",
    "       dict = chain_hash_table(max_selled + 1)\n",
    "       for product in self.data:\n",
    "          max_selled = max(max_selled, int(product[4]))\n",
    "          dict.insert(int(product[4]), product[2])\n",
    "\n",
    "       return dict.search(max_selled)\n",
    "    \n",
    "    def search_the_most_revenue_product(self) -> list:\n",
    "       max_incomest = self.find_max_needed_product(6)\n",
    "       dict = chain_hash_table(int(max_incomest) + 1)\n",
    "       for product in self.data:\n",
    "          max_incomest = max(max_incomest, float(product[6]))\n",
    "          dict.insert(int(float(product[6])), product[2])\n",
    "\n",
    "       return dict.search(int(max_incomest))\n",
    "    \n",
    "    def calc_percent_of_revenue(self) -> list[str]:\n",
    "       revenue = self.calc_revenue()\n",
    "       percent_list = []\n",
    "       for product in self.data:\n",
    "          percent = (float(product[6]) / revenue) * 100\n",
    "          percent_list.append(str(round(percent, 1)) + '%')\n",
    "      \n",
    "       return percent_list\n",
    "    \n",
    "    def calc_percent_of_revenue_int(self) -> list[int]:\n",
    "       revenue = self.calc_revenue()\n",
    "       percent_list = []\n",
    "       for product in self.data:\n",
    "          percent = (float(product[6]) / revenue) * 100\n",
    "          percent_list.append(round(percent, 1))\n",
    "      \n",
    "       return percent_list\n",
    "\n",
    "data = read_data()\n",
    "cl = data_service(data)\n",
    "print(cl.calc_percent_of_revenue())  \n",
    "\n",
    "\n"
   ]
  },
  {
   "cell_type": "markdown",
   "metadata": {},
   "source": [
    "### Создание отчета"
   ]
  },
  {
   "cell_type": "code",
   "execution_count": 217,
   "metadata": {},
   "outputs": [],
   "source": [
    "class visualisator:\n",
    "   \n",
    "    @staticmethod\n",
    "    def show_report(file: str):\n",
    "        pd_data = pd.read_csv(file)\n",
    "        csv_srvice = data_service(read_data(file_name=file))\n",
    "\n",
    "        revenue = csv_srvice.calc_revenue()\n",
    "        percents = csv_srvice.calc_percent_of_revenue() \n",
    "\n",
    "        product_name = pd_data['Название товара']\n",
    "        sells_count = pd_data['Количество продаж']\n",
    "        cost = pd_data['Общая стоимость']\n",
    "\n",
    "        data = {\n",
    "            'Название товара': product_name,\n",
    "            'Количество продаж': sells_count,\n",
    "            'Общая стоимость': cost,\n",
    "            'Доля от общей прибыли': percents,\n",
    "            'Общая прибыль': [f'{revenue}'] + [''] * (len(percents) - 1)\n",
    "        }\n",
    "\n",
    "        df = pd.DataFrame(data)\n",
    "        df.index = [''] * len(percents)\n",
    "\n",
    "        display(df)\n",
    "\n",
    "    def show_histogram(file: str):\n",
    "        pd_data = pd.read_csv(file)\n",
    "        csv_srvice = data_service(read_data(file_name=file))\n",
    "\n",
    "        percents = csv_srvice.calc_percent_of_revenue_int()\n",
    "        names = pd_data['Название товара']\n",
    "        index = np.arange(len(names))\n",
    "\n",
    "        plt.title('Доли от общей прибыли')\n",
    "        plt.bar(index, percents, label='Доля прибыли', color='skyblue')\n",
    "        plt.xticks(index, names)\n",
    "        plt.legend(loc=2)\n",
    "        plt.ylim(0, 100)\n",
    "\n",
    "        plt.show()\n",
    "\n",
    "    def show_cercle_diagram(file: str):\n",
    "        pd_data = pd.read_csv(file)\n",
    "        csv_srvice = data_service(read_data(file_name=file))\n",
    "\n",
    "        product_names = pd_data['Название товара']\n",
    "        sizes = csv_srvice.calc_percent_of_revenue_int()\n",
    "\n",
    "        plt.pie(sizes, labels=product_names, autopct='%1.1f%%', startangle=140)\n",
    "\n",
    "        plt.axis('equal')\n",
    "\n",
    "        plt.title('Доли от общей прибыли')\n",
    "\n",
    "        plt.show()\n",
    "    \n",
    "    def show_table(data):\n",
    "        df = pd.DataFrame(data)\n",
    "        display(df)"
   ]
  },
  {
   "cell_type": "markdown",
   "metadata": {},
   "source": [
    "### Вывод отчета"
   ]
  },
  {
   "cell_type": "code",
   "execution_count": 218,
   "metadata": {},
   "outputs": [
    {
     "data": {
      "text/html": [
       "<div>\n",
       "<style scoped>\n",
       "    .dataframe tbody tr th:only-of-type {\n",
       "        vertical-align: middle;\n",
       "    }\n",
       "\n",
       "    .dataframe tbody tr th {\n",
       "        vertical-align: top;\n",
       "    }\n",
       "\n",
       "    .dataframe thead th {\n",
       "        text-align: right;\n",
       "    }\n",
       "</style>\n",
       "<table border=\"1\" class=\"dataframe\">\n",
       "  <thead>\n",
       "    <tr style=\"text-align: right;\">\n",
       "      <th></th>\n",
       "      <th>Название товара</th>\n",
       "      <th>Количество продаж</th>\n",
       "      <th>Общая стоимость</th>\n",
       "      <th>Доля от общей прибыли</th>\n",
       "      <th>Общая прибыль</th>\n",
       "    </tr>\n",
       "  </thead>\n",
       "  <tbody>\n",
       "    <tr>\n",
       "      <th></th>\n",
       "      <td>Бутбольный мяч</td>\n",
       "      <td>10</td>\n",
       "      <td>250.0</td>\n",
       "      <td>3.0%</td>\n",
       "      <td>8250.0</td>\n",
       "    </tr>\n",
       "    <tr>\n",
       "      <th></th>\n",
       "      <td>Воутбук</td>\n",
       "      <td>5</td>\n",
       "      <td>5000.0</td>\n",
       "      <td>60.6%</td>\n",
       "      <td></td>\n",
       "    </tr>\n",
       "    <tr>\n",
       "      <th></th>\n",
       "      <td>Аотоаппарат</td>\n",
       "      <td>10</td>\n",
       "      <td>3000.0</td>\n",
       "      <td>36.4%</td>\n",
       "      <td></td>\n",
       "    </tr>\n",
       "  </tbody>\n",
       "</table>\n",
       "</div>"
      ],
      "text/plain": [
       " Название товара  Количество продаж  Общая стоимость Доля от общей прибыли  \\\n",
       "  Бутбольный мяч                 10            250.0                  3.0%   \n",
       "         Воутбук                  5           5000.0                 60.6%   \n",
       "     Аотоаппарат                 10           3000.0                 36.4%   \n",
       "\n",
       " Общая прибыль  \n",
       "        8250.0  \n",
       "                \n",
       "                "
      ]
     },
     "metadata": {},
     "output_type": "display_data"
    },
    {
     "data": {
      "image/png": "[encoded data removed]",
      "text/plain": [
       "<Figure size 640x480 with 1 Axes>"
      ]
     },
     "metadata": {},
     "output_type": "display_data"
    },
    {
     "data": {
      "image/png": "[encoded data removed]",
      "text/plain": [
       "<Figure size 640x480 with 1 Axes>"
      ]
     },
     "metadata": {},
     "output_type": "display_data"
    }
   ],
   "source": [
    "file_name = 'orders.csv'\n",
    "visualisator.show_report(file_name)\n",
    "visualisator.show_histogram(file_name)\n",
    "visualisator.show_cercle_diagram(file_name)"
   ]
  },
  {
   "cell_type": "markdown",
   "metadata": {},
   "source": [
    "### Вывод всех товаров в словарном порядке"
   ]
  },
  {
   "cell_type": "code",
   "execution_count": 213,
   "metadata": {},
   "outputs": [
    {
     "name": "stdout",
     "output_type": "stream",
     "text": [
      "CSV файл sorted_oraders успешно создан.\n"
     ]
    },
    {
     "data": {
      "text/html": [
       "<div>\n",
       "<style scoped>\n",
       "    .dataframe tbody tr th:only-of-type {\n",
       "        vertical-align: middle;\n",
       "    }\n",
       "\n",
       "    .dataframe tbody tr th {\n",
       "        vertical-align: top;\n",
       "    }\n",
       "\n",
       "    .dataframe thead th {\n",
       "        text-align: right;\n",
       "    }\n",
       "</style>\n",
       "<table border=\"1\" class=\"dataframe\">\n",
       "  <thead>\n",
       "    <tr style=\"text-align: right;\">\n",
       "      <th></th>\n",
       "      <th>Номер заказа</th>\n",
       "      <th>Дата заказа</th>\n",
       "      <th>Название товара</th>\n",
       "      <th>Категория товара</th>\n",
       "      <th>Количество продаж</th>\n",
       "      <th>Цена за единицу</th>\n",
       "      <th>Общая стоимость</th>\n",
       "    </tr>\n",
       "  </thead>\n",
       "  <tbody>\n",
       "    <tr>\n",
       "      <th></th>\n",
       "      <td>3</td>\n",
       "      <td>2024-05-16</td>\n",
       "      <td>Аотоаппарат</td>\n",
       "      <td>Электроника</td>\n",
       "      <td>10</td>\n",
       "      <td>300.0</td>\n",
       "      <td>3000.0</td>\n",
       "    </tr>\n",
       "    <tr>\n",
       "      <th></th>\n",
       "      <td>1</td>\n",
       "      <td>2024-05-15</td>\n",
       "      <td>Бутбольный мяч</td>\n",
       "      <td>Спорт</td>\n",
       "      <td>10</td>\n",
       "      <td>25.0</td>\n",
       "      <td>250.0</td>\n",
       "    </tr>\n",
       "    <tr>\n",
       "      <th></th>\n",
       "      <td>2</td>\n",
       "      <td>2024-05-15</td>\n",
       "      <td>Воутбук</td>\n",
       "      <td>Электроника</td>\n",
       "      <td>5</td>\n",
       "      <td>1000.0</td>\n",
       "      <td>5000.0</td>\n",
       "    </tr>\n",
       "  </tbody>\n",
       "</table>\n",
       "</div>"
      ],
      "text/plain": [
       "  Номер заказа Дата заказа Название товара Категория товара  \\\n",
       "             3  2024-05-16     Аотоаппарат      Электроника   \n",
       "             1  2024-05-15  Бутбольный мяч            Спорт   \n",
       "             2  2024-05-15         Воутбук      Электроника   \n",
       "\n",
       "  Количество продаж  Цена за единицу  Общая стоимость  \n",
       "                 10            300.0           3000.0  \n",
       "                 10             25.0            250.0  \n",
       "                  5           1000.0           5000.0  "
      ]
     },
     "metadata": {},
     "output_type": "display_data"
    }
   ],
   "source": [
    "csv_data = read_data('orders.csv')\n",
    "array = quick_sort(csv_data, 2)\n",
    "titles = (['Номер заказа', 'Дата заказа', 'Название товара', 'Категория товара', 'Количество продаж', 'Цена за единицу', 'Общая стоимость'])\n",
    "array.insert(0, titles)\n",
    "\n",
    "file = 'sorted_oraders'\n",
    "create_csv_file(data=array, file_name=file)\n",
    "show_csv_table(file=file)\n",
    "\n"
   ]
  }
 ],
 "metadata": {
  "kernelspec": {
   "display_name": "Python 3",
   "language": "python",
   "name": "python3"
  },
  "language_info": {
   "codemirror_mode": {
    "name": "ipython",
    "version": 3
   },
   "file_extension": ".py",
   "mimetype": "text/x-python",
   "name": "python",
   "nbconvert_exporter": "python",
   "pygments_lexer": "ipython3",
   "version": "3.9.6"
  }
 },
 "nbformat": 4,
 "nbformat_minor": 2
}
